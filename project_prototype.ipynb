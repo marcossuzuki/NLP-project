{
 "cells": [
  {
   "cell_type": "code",
   "execution_count": 9,
   "metadata": {
    "scrolled": false
   },
   "outputs": [
    {
     "name": "stdout",
     "output_type": "stream",
     "text": [
      "Naive Bayes Algo accuracy: 83.0\n",
      "Most Informative Features\n",
      "                   sucks = True              neg : pos    =     16.6 : 1.0\n",
      "                  turkey = True              neg : pos    =     11.2 : 1.0\n",
      "                  annual = True              pos : neg    =      9.5 : 1.0\n",
      "                  justin = True              neg : pos    =      9.1 : 1.0\n",
      "                 frances = True              pos : neg    =      8.2 : 1.0\n",
      "           unimaginative = True              neg : pos    =      7.8 : 1.0\n",
      "             silverstone = True              neg : pos    =      7.8 : 1.0\n",
      "                  shoddy = True              neg : pos    =      7.1 : 1.0\n",
      "               atrocious = True              neg : pos    =      7.1 : 1.0\n",
      "                  regard = True              pos : neg    =      6.9 : 1.0\n",
      "                 idiotic = True              neg : pos    =      6.9 : 1.0\n",
      "                    mena = True              neg : pos    =      6.4 : 1.0\n",
      "                  suvari = True              neg : pos    =      6.4 : 1.0\n",
      "              schumacher = True              neg : pos    =      6.3 : 1.0\n",
      "                obstacle = True              pos : neg    =      6.2 : 1.0\n"
     ]
    }
   ],
   "source": [
    "import nltk\n",
    "import random\n",
    "from nltk.corpus import movie_reviews\n",
    "\n",
    "documents = [(list(movie_reviews.words(fieldid)), category)\n",
    "             for category in movie_reviews.categories()\n",
    "             for fieldid in movie_reviews.fileids(category)]\n",
    "\n",
    "random.shuffle(documents)\n",
    "\n",
    "all_words = []\n",
    "\n",
    "for w in movie_reviews.words():\n",
    "    all_words.append(w.lower())\n",
    "    \n",
    "all_words = nltk.FreqDist(all_words)\n",
    "\n",
    "word_features = list(all_words.keys())[:3000]\n",
    "\n",
    "def find_features(document):\n",
    "    words = set(document)\n",
    "    features = {}\n",
    "    for w in word_features:\n",
    "        features[w] = (w in words)\n",
    "        \n",
    "    return features\n",
    "\n",
    "#print ((find_features(movie_reviews.words('neg/cv000_29416.txt'))))\n",
    "\n",
    "featuressets = [(find_features(rev), category) for (rev, category) in documents]\n",
    "\n",
    "training_set = featuressets[:1900]\n",
    "testing_set = featuressets[1900:]\n",
    "\n",
    "classifier = nltk.NaiveBayesClassifier.train(training_set)\n",
    "print(\"Naive Bayes Algo accuracy:\", (nltk.classify.accuracy(classifier, testing_set))*100)\n",
    "classifier.show_most_informative_features(15)"
   ]
  },
  {
   "cell_type": "code",
   "execution_count": null,
   "metadata": {},
   "outputs": [],
   "source": [
    "#download dos arquivos teste\n",
    "#nltk.download('movie_reviews')"
   ]
  },
  {
   "cell_type": "code",
   "execution_count": null,
   "metadata": {},
   "outputs": [],
   "source": []
  }
 ],
 "metadata": {
  "kernelspec": {
   "display_name": "Python 3",
   "language": "python",
   "name": "python3"
  },
  "language_info": {
   "codemirror_mode": {
    "name": "ipython",
    "version": 3
   },
   "file_extension": ".py",
   "mimetype": "text/x-python",
   "name": "python",
   "nbconvert_exporter": "python",
   "pygments_lexer": "ipython3",
   "version": "3.6.4"
  }
 },
 "nbformat": 4,
 "nbformat_minor": 2
}
